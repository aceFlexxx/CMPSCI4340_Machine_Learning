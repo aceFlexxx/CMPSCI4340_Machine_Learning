# perceptron learning algorithm
import random
from matplotlib import pyplot as plt

data_gen_weights = [2, -0.5, 1]
D = 2
MIN = -10
MAX = 10
TRAIN_DATA_MAX = 50
TEST_DATA_MAX = 30
w = []
x_train = []
y_train = []

x_test = []
y_test = []

# generate training data
for i in range(TRAIN_DATA_MAX):
  x_train.append([random.uniform(MIN,MAX), random.uniform(MIN,MAX)])
  if data_gen_weights[0] + data_gen_weights[1]*x_train[i][0] + data_gen_weights[2]*x_train[i][1] < 0:
    y_train.append(-1)
  else: y_train.append(1)

# generate testing data
for i in range(TEST_DATA_MAX):
  x_test.append([random.uniform(MIN,MAX), random.uniform(MIN,MAX)])
  if data_gen_weights[0] + data_gen_weights[1]*x_train[i][0] + data_gen_weights[2]*x_train[i][1] < 0:
    y_test.append(-1)
  else: y_test.append(1)

# Plot training data
# create random starting weights
for i in range(D+1):
  w.append(random.uniform(MIN,MAX))
x = []
y = []
for num in x_train:
  x.append(num[0])
  y.append(num[1])
plt.scatter(x,y)
x2 = [-10,10]
y2 = [7,-7]
plt.title("Generated Training Data")
plt.plot(x2,y2)

plt.show(block=True)

# start checking weights for correct classification of data and update as needed
print(w)
not_classified = True
attempts = 0
while not_classified and attempts < 20:
  classification_outcome = []
  # loop through each point and check if it is classified correctly
  for i in range(len(x_train)):
    if (w[0] + w[1]*x_train[i][0] + w[2]*x_train[i][1] < 0 and y_train[i] < 0) or (w[0] + w[1]*x_train[i][0] + w[2]*x_train[i][1] >= 0 and y_train[i] > 0):
      # correct
      classification_outcome.append(1)
    else:
      # incorrect
      classification_outcome.append(0)
  # count number of correct vs incorrect classifications
  incorrect = 0
  for i in classification_outcome:
    if i == 0:
      incorrect += 1
  # use incorrect number to find error
  error = incorrect/len(classification_outcome)
  if error == 0:
    not_classified = False
  print(error)
  # find an element that is not classified correctly and use it to update w
  for i in range(len(classification_outcome)):
    if classification_outcome[i] == 0:
      # update weights
      for j in range(len(w)):
        w[j] += w[j] + y_train[i]*x_train[i][0] + y_train[i]*x_train[i][1]
      break
  attempts += 1

print(w)

# start checking weights for correct classification of data and update as needed
print(w)
not_classified = True
attempts = 0
while not_classified and attempts < 20:
  classification_outcome = []
  # loop through each point and check if it is classified correctly
  for i in range(len(x_test)):
    if (w[0] + w[1]*x_test[i][0] + w[2]*x_test[i][1] < 0 and y_test[i] < 0) or (w[0] + w[1]*x_train[i][0] + w[2]*x_test[i][1] >= 0 and y_test[i] > 0):
      # correct
      classification_outcome.append(1)
    else:
      # incorrect
      classification_outcome.append(0)
  # count number of correct vs incorrect classifications
  incorrect = 0
  for i in classification_outcome:
    if i == 0:
      incorrect += 1
  # use incorrect number to find error
  error = incorrect/len(classification_outcome)
  if error == 0:
    not_classified = False
  print(error)
  # find an element that is not classified correctly and use it to update w
  for i in range(len(classification_outcome)):
    if classification_outcome[i] == 0:
      # update weights
      for j in range(len(w)):
        w[j] += w[j] + y_test[i]*x_test[i][0] + y_test[i]*x_test[i][1]
      break
  attempts += 1

print(w)
# Plot testing data
# create random starting weights
for i in range(D+1):
  w.append(random.uniform(MIN,MAX))
x = []
y = []
for num in x_test:
  x.append(num[0])
  y.append(num[1])
plt.scatter(x,y)
x2 = [-10,10]
y2 = [7,-7]
plt.title("Generated Testing Data")
plt.plot(x2,y2)
plt.show(block=True)
